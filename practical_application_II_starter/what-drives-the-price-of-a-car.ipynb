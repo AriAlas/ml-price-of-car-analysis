{
 "cells": [
  {
   "cell_type": "markdown",
   "metadata": {},
   "source": [
    "# What drives the price of a car?\n",
    "\n",
    "![](images/kurt.jpeg)"
   ]
  },
  {
   "cell_type": "markdown",
   "metadata": {},
   "source": [
    "**OVERVIEW**\n",
    "\n",
    "In this application, you will explore a dataset from Kaggle. The original dataset contained information on 3 million used cars. The provided dataset contains information on 426K cars to ensure speed of processing.  Your goal is to understand what factors make a car more or less expensive.  As a result of your analysis, you should provide clear recommendations to your client -- a used car dealership -- as to what consumers value in a used car."
   ]
  },
  {
   "cell_type": "markdown",
   "metadata": {},
   "source": [
    "### CRISP-DM Framework\n",
    "\n",
    "<center>\n",
    "    <img src = images/crisp.png width = 50%/>\n",
    "</center>\n",
    "\n",
    "\n",
    "To frame the task, throughout our practical applications, we will refer back to a standard process in industry for data projects called CRISP-DM.  This process provides a framework for working through a data problem.  Your first step in this application will be to read through a brief overview of CRISP-DM [here](https://mo-pcco.s3.us-east-1.amazonaws.com/BH-PCMLAI/module_11/readings_starter.zip).  After reading the overview, answer the questions below."
   ]
  },
  {
   "cell_type": "markdown",
   "metadata": {},
   "source": [
    "### Business Understanding\n",
    "\n",
    "From a business perspective, we are tasked with identifying key drivers for used car prices.  In the CRISP-DM overview, we are asked to convert this business framing to a data problem definition.  Using a few sentences, reframe the task as a data task with the appropriate technical vocabulary. "
   ]
  },
  {
   "cell_type": "markdown",
   "metadata": {},
   "source": [
    "This project aims to develop a supervised learning model (soecifically, a regression model) to predict the target variable `price` using the available attributes in the used car dataset (e.g., year, region, model, and additional features). By training and evaluating this model on historical data, we will not only estimate car prices but also identify the various factors that make a car more or less expensive."
   ]
  },
  {
   "cell_type": "markdown",
   "metadata": {},
   "source": [
    "### Data Understanding\n",
    "\n",
    "After considering the business understanding, we want to get familiar with our data.  Write down some steps that you would take to get to know the dataset and identify any quality issues within.  Take time to get to know the dataset and explore what information it contains and how this could be used to inform your business understanding."
   ]
  },
  {
   "cell_type": "code",
   "execution_count": 187,
   "metadata": {},
   "outputs": [
    {
     "name": "stdout",
     "output_type": "stream",
     "text": [
      "Requirement already satisfied: category_encoders in /opt/anaconda3/lib/python3.12/site-packages (2.8.1)\n",
      "Requirement already satisfied: numpy>=1.14.0 in /opt/anaconda3/lib/python3.12/site-packages (from category_encoders) (1.26.4)\n",
      "Requirement already satisfied: pandas>=1.0.5 in /opt/anaconda3/lib/python3.12/site-packages (from category_encoders) (2.2.2)\n",
      "Requirement already satisfied: patsy>=0.5.1 in /opt/anaconda3/lib/python3.12/site-packages (from category_encoders) (0.5.6)\n",
      "Requirement already satisfied: scikit-learn>=1.6.0 in /opt/anaconda3/lib/python3.12/site-packages (from category_encoders) (1.6.1)\n",
      "Requirement already satisfied: scipy>=1.0.0 in /opt/anaconda3/lib/python3.12/site-packages (from category_encoders) (1.13.1)\n",
      "Requirement already satisfied: statsmodels>=0.9.0 in /opt/anaconda3/lib/python3.12/site-packages (from category_encoders) (0.14.2)\n",
      "Requirement already satisfied: python-dateutil>=2.8.2 in /opt/anaconda3/lib/python3.12/site-packages (from pandas>=1.0.5->category_encoders) (2.9.0.post0)\n",
      "Requirement already satisfied: pytz>=2020.1 in /opt/anaconda3/lib/python3.12/site-packages (from pandas>=1.0.5->category_encoders) (2024.1)\n",
      "Requirement already satisfied: tzdata>=2022.7 in /opt/anaconda3/lib/python3.12/site-packages (from pandas>=1.0.5->category_encoders) (2023.3)\n",
      "Requirement already satisfied: six in /opt/anaconda3/lib/python3.12/site-packages (from patsy>=0.5.1->category_encoders) (1.16.0)\n",
      "Requirement already satisfied: joblib>=1.2.0 in /opt/anaconda3/lib/python3.12/site-packages (from scikit-learn>=1.6.0->category_encoders) (1.4.2)\n",
      "Requirement already satisfied: threadpoolctl>=3.1.0 in /opt/anaconda3/lib/python3.12/site-packages (from scikit-learn>=1.6.0->category_encoders) (3.5.0)\n",
      "Requirement already satisfied: packaging>=21.3 in /opt/anaconda3/lib/python3.12/site-packages (from statsmodels>=0.9.0->category_encoders) (24.1)\n"
     ]
    }
   ],
   "source": [
    "import sys\n",
    "!{sys.executable} -m pip install --upgrade category_encoders"
   ]
  },
  {
   "cell_type": "code",
   "execution_count": 1,
   "metadata": {},
   "outputs": [
    {
     "data": {
      "text/html": [
       "<div>\n",
       "<style scoped>\n",
       "    .dataframe tbody tr th:only-of-type {\n",
       "        vertical-align: middle;\n",
       "    }\n",
       "\n",
       "    .dataframe tbody tr th {\n",
       "        vertical-align: top;\n",
       "    }\n",
       "\n",
       "    .dataframe thead th {\n",
       "        text-align: right;\n",
       "    }\n",
       "</style>\n",
       "<table border=\"1\" class=\"dataframe\">\n",
       "  <thead>\n",
       "    <tr style=\"text-align: right;\">\n",
       "      <th></th>\n",
       "      <th>id</th>\n",
       "      <th>region</th>\n",
       "      <th>price</th>\n",
       "      <th>year</th>\n",
       "      <th>manufacturer</th>\n",
       "      <th>model</th>\n",
       "      <th>condition</th>\n",
       "      <th>cylinders</th>\n",
       "      <th>fuel</th>\n",
       "      <th>odometer</th>\n",
       "      <th>title_status</th>\n",
       "      <th>transmission</th>\n",
       "      <th>VIN</th>\n",
       "      <th>drive</th>\n",
       "      <th>size</th>\n",
       "      <th>type</th>\n",
       "      <th>paint_color</th>\n",
       "      <th>state</th>\n",
       "    </tr>\n",
       "  </thead>\n",
       "  <tbody>\n",
       "    <tr>\n",
       "      <th>0</th>\n",
       "      <td>7222695916</td>\n",
       "      <td>prescott</td>\n",
       "      <td>6000</td>\n",
       "      <td>NaN</td>\n",
       "      <td>NaN</td>\n",
       "      <td>NaN</td>\n",
       "      <td>NaN</td>\n",
       "      <td>NaN</td>\n",
       "      <td>NaN</td>\n",
       "      <td>NaN</td>\n",
       "      <td>NaN</td>\n",
       "      <td>NaN</td>\n",
       "      <td>NaN</td>\n",
       "      <td>NaN</td>\n",
       "      <td>NaN</td>\n",
       "      <td>NaN</td>\n",
       "      <td>NaN</td>\n",
       "      <td>az</td>\n",
       "    </tr>\n",
       "    <tr>\n",
       "      <th>1</th>\n",
       "      <td>7218891961</td>\n",
       "      <td>fayetteville</td>\n",
       "      <td>11900</td>\n",
       "      <td>NaN</td>\n",
       "      <td>NaN</td>\n",
       "      <td>NaN</td>\n",
       "      <td>NaN</td>\n",
       "      <td>NaN</td>\n",
       "      <td>NaN</td>\n",
       "      <td>NaN</td>\n",
       "      <td>NaN</td>\n",
       "      <td>NaN</td>\n",
       "      <td>NaN</td>\n",
       "      <td>NaN</td>\n",
       "      <td>NaN</td>\n",
       "      <td>NaN</td>\n",
       "      <td>NaN</td>\n",
       "      <td>ar</td>\n",
       "    </tr>\n",
       "    <tr>\n",
       "      <th>2</th>\n",
       "      <td>7221797935</td>\n",
       "      <td>florida keys</td>\n",
       "      <td>21000</td>\n",
       "      <td>NaN</td>\n",
       "      <td>NaN</td>\n",
       "      <td>NaN</td>\n",
       "      <td>NaN</td>\n",
       "      <td>NaN</td>\n",
       "      <td>NaN</td>\n",
       "      <td>NaN</td>\n",
       "      <td>NaN</td>\n",
       "      <td>NaN</td>\n",
       "      <td>NaN</td>\n",
       "      <td>NaN</td>\n",
       "      <td>NaN</td>\n",
       "      <td>NaN</td>\n",
       "      <td>NaN</td>\n",
       "      <td>fl</td>\n",
       "    </tr>\n",
       "    <tr>\n",
       "      <th>3</th>\n",
       "      <td>7222270760</td>\n",
       "      <td>worcester / central MA</td>\n",
       "      <td>1500</td>\n",
       "      <td>NaN</td>\n",
       "      <td>NaN</td>\n",
       "      <td>NaN</td>\n",
       "      <td>NaN</td>\n",
       "      <td>NaN</td>\n",
       "      <td>NaN</td>\n",
       "      <td>NaN</td>\n",
       "      <td>NaN</td>\n",
       "      <td>NaN</td>\n",
       "      <td>NaN</td>\n",
       "      <td>NaN</td>\n",
       "      <td>NaN</td>\n",
       "      <td>NaN</td>\n",
       "      <td>NaN</td>\n",
       "      <td>ma</td>\n",
       "    </tr>\n",
       "    <tr>\n",
       "      <th>4</th>\n",
       "      <td>7210384030</td>\n",
       "      <td>greensboro</td>\n",
       "      <td>4900</td>\n",
       "      <td>NaN</td>\n",
       "      <td>NaN</td>\n",
       "      <td>NaN</td>\n",
       "      <td>NaN</td>\n",
       "      <td>NaN</td>\n",
       "      <td>NaN</td>\n",
       "      <td>NaN</td>\n",
       "      <td>NaN</td>\n",
       "      <td>NaN</td>\n",
       "      <td>NaN</td>\n",
       "      <td>NaN</td>\n",
       "      <td>NaN</td>\n",
       "      <td>NaN</td>\n",
       "      <td>NaN</td>\n",
       "      <td>nc</td>\n",
       "    </tr>\n",
       "    <tr>\n",
       "      <th>5</th>\n",
       "      <td>7222379453</td>\n",
       "      <td>hudson valley</td>\n",
       "      <td>1600</td>\n",
       "      <td>NaN</td>\n",
       "      <td>NaN</td>\n",
       "      <td>NaN</td>\n",
       "      <td>NaN</td>\n",
       "      <td>NaN</td>\n",
       "      <td>NaN</td>\n",
       "      <td>NaN</td>\n",
       "      <td>NaN</td>\n",
       "      <td>NaN</td>\n",
       "      <td>NaN</td>\n",
       "      <td>NaN</td>\n",
       "      <td>NaN</td>\n",
       "      <td>NaN</td>\n",
       "      <td>NaN</td>\n",
       "      <td>ny</td>\n",
       "    </tr>\n",
       "    <tr>\n",
       "      <th>6</th>\n",
       "      <td>7221952215</td>\n",
       "      <td>hudson valley</td>\n",
       "      <td>1000</td>\n",
       "      <td>NaN</td>\n",
       "      <td>NaN</td>\n",
       "      <td>NaN</td>\n",
       "      <td>NaN</td>\n",
       "      <td>NaN</td>\n",
       "      <td>NaN</td>\n",
       "      <td>NaN</td>\n",
       "      <td>NaN</td>\n",
       "      <td>NaN</td>\n",
       "      <td>NaN</td>\n",
       "      <td>NaN</td>\n",
       "      <td>NaN</td>\n",
       "      <td>NaN</td>\n",
       "      <td>NaN</td>\n",
       "      <td>ny</td>\n",
       "    </tr>\n",
       "    <tr>\n",
       "      <th>7</th>\n",
       "      <td>7220195662</td>\n",
       "      <td>hudson valley</td>\n",
       "      <td>15995</td>\n",
       "      <td>NaN</td>\n",
       "      <td>NaN</td>\n",
       "      <td>NaN</td>\n",
       "      <td>NaN</td>\n",
       "      <td>NaN</td>\n",
       "      <td>NaN</td>\n",
       "      <td>NaN</td>\n",
       "      <td>NaN</td>\n",
       "      <td>NaN</td>\n",
       "      <td>NaN</td>\n",
       "      <td>NaN</td>\n",
       "      <td>NaN</td>\n",
       "      <td>NaN</td>\n",
       "      <td>NaN</td>\n",
       "      <td>ny</td>\n",
       "    </tr>\n",
       "    <tr>\n",
       "      <th>8</th>\n",
       "      <td>7209064557</td>\n",
       "      <td>medford-ashland</td>\n",
       "      <td>5000</td>\n",
       "      <td>NaN</td>\n",
       "      <td>NaN</td>\n",
       "      <td>NaN</td>\n",
       "      <td>NaN</td>\n",
       "      <td>NaN</td>\n",
       "      <td>NaN</td>\n",
       "      <td>NaN</td>\n",
       "      <td>NaN</td>\n",
       "      <td>NaN</td>\n",
       "      <td>NaN</td>\n",
       "      <td>NaN</td>\n",
       "      <td>NaN</td>\n",
       "      <td>NaN</td>\n",
       "      <td>NaN</td>\n",
       "      <td>or</td>\n",
       "    </tr>\n",
       "    <tr>\n",
       "      <th>9</th>\n",
       "      <td>7219485069</td>\n",
       "      <td>erie</td>\n",
       "      <td>3000</td>\n",
       "      <td>NaN</td>\n",
       "      <td>NaN</td>\n",
       "      <td>NaN</td>\n",
       "      <td>NaN</td>\n",
       "      <td>NaN</td>\n",
       "      <td>NaN</td>\n",
       "      <td>NaN</td>\n",
       "      <td>NaN</td>\n",
       "      <td>NaN</td>\n",
       "      <td>NaN</td>\n",
       "      <td>NaN</td>\n",
       "      <td>NaN</td>\n",
       "      <td>NaN</td>\n",
       "      <td>NaN</td>\n",
       "      <td>pa</td>\n",
       "    </tr>\n",
       "    <tr>\n",
       "      <th>10</th>\n",
       "      <td>7218893038</td>\n",
       "      <td>el paso</td>\n",
       "      <td>0</td>\n",
       "      <td>NaN</td>\n",
       "      <td>NaN</td>\n",
       "      <td>NaN</td>\n",
       "      <td>NaN</td>\n",
       "      <td>NaN</td>\n",
       "      <td>NaN</td>\n",
       "      <td>NaN</td>\n",
       "      <td>NaN</td>\n",
       "      <td>NaN</td>\n",
       "      <td>NaN</td>\n",
       "      <td>NaN</td>\n",
       "      <td>NaN</td>\n",
       "      <td>NaN</td>\n",
       "      <td>NaN</td>\n",
       "      <td>tx</td>\n",
       "    </tr>\n",
       "    <tr>\n",
       "      <th>11</th>\n",
       "      <td>7218325704</td>\n",
       "      <td>el paso</td>\n",
       "      <td>0</td>\n",
       "      <td>NaN</td>\n",
       "      <td>NaN</td>\n",
       "      <td>NaN</td>\n",
       "      <td>NaN</td>\n",
       "      <td>NaN</td>\n",
       "      <td>NaN</td>\n",
       "      <td>NaN</td>\n",
       "      <td>NaN</td>\n",
       "      <td>NaN</td>\n",
       "      <td>NaN</td>\n",
       "      <td>NaN</td>\n",
       "      <td>NaN</td>\n",
       "      <td>NaN</td>\n",
       "      <td>NaN</td>\n",
       "      <td>tx</td>\n",
       "    </tr>\n",
       "    <tr>\n",
       "      <th>12</th>\n",
       "      <td>7217788283</td>\n",
       "      <td>el paso</td>\n",
       "      <td>0</td>\n",
       "      <td>NaN</td>\n",
       "      <td>NaN</td>\n",
       "      <td>NaN</td>\n",
       "      <td>NaN</td>\n",
       "      <td>NaN</td>\n",
       "      <td>NaN</td>\n",
       "      <td>NaN</td>\n",
       "      <td>NaN</td>\n",
       "      <td>NaN</td>\n",
       "      <td>NaN</td>\n",
       "      <td>NaN</td>\n",
       "      <td>NaN</td>\n",
       "      <td>NaN</td>\n",
       "      <td>NaN</td>\n",
       "      <td>tx</td>\n",
       "    </tr>\n",
       "    <tr>\n",
       "      <th>13</th>\n",
       "      <td>7217147606</td>\n",
       "      <td>el paso</td>\n",
       "      <td>0</td>\n",
       "      <td>NaN</td>\n",
       "      <td>NaN</td>\n",
       "      <td>NaN</td>\n",
       "      <td>NaN</td>\n",
       "      <td>NaN</td>\n",
       "      <td>NaN</td>\n",
       "      <td>NaN</td>\n",
       "      <td>NaN</td>\n",
       "      <td>NaN</td>\n",
       "      <td>NaN</td>\n",
       "      <td>NaN</td>\n",
       "      <td>NaN</td>\n",
       "      <td>NaN</td>\n",
       "      <td>NaN</td>\n",
       "      <td>tx</td>\n",
       "    </tr>\n",
       "    <tr>\n",
       "      <th>14</th>\n",
       "      <td>7209027818</td>\n",
       "      <td>el paso</td>\n",
       "      <td>0</td>\n",
       "      <td>NaN</td>\n",
       "      <td>NaN</td>\n",
       "      <td>NaN</td>\n",
       "      <td>NaN</td>\n",
       "      <td>NaN</td>\n",
       "      <td>NaN</td>\n",
       "      <td>NaN</td>\n",
       "      <td>NaN</td>\n",
       "      <td>NaN</td>\n",
       "      <td>NaN</td>\n",
       "      <td>NaN</td>\n",
       "      <td>NaN</td>\n",
       "      <td>NaN</td>\n",
       "      <td>NaN</td>\n",
       "      <td>tx</td>\n",
       "    </tr>\n",
       "    <tr>\n",
       "      <th>15</th>\n",
       "      <td>7223509794</td>\n",
       "      <td>bellingham</td>\n",
       "      <td>13995</td>\n",
       "      <td>NaN</td>\n",
       "      <td>NaN</td>\n",
       "      <td>NaN</td>\n",
       "      <td>NaN</td>\n",
       "      <td>NaN</td>\n",
       "      <td>NaN</td>\n",
       "      <td>NaN</td>\n",
       "      <td>NaN</td>\n",
       "      <td>NaN</td>\n",
       "      <td>NaN</td>\n",
       "      <td>NaN</td>\n",
       "      <td>NaN</td>\n",
       "      <td>NaN</td>\n",
       "      <td>NaN</td>\n",
       "      <td>wa</td>\n",
       "    </tr>\n",
       "    <tr>\n",
       "      <th>16</th>\n",
       "      <td>7222753076</td>\n",
       "      <td>bellingham</td>\n",
       "      <td>24999</td>\n",
       "      <td>NaN</td>\n",
       "      <td>NaN</td>\n",
       "      <td>NaN</td>\n",
       "      <td>NaN</td>\n",
       "      <td>NaN</td>\n",
       "      <td>NaN</td>\n",
       "      <td>NaN</td>\n",
       "      <td>NaN</td>\n",
       "      <td>NaN</td>\n",
       "      <td>NaN</td>\n",
       "      <td>NaN</td>\n",
       "      <td>NaN</td>\n",
       "      <td>NaN</td>\n",
       "      <td>NaN</td>\n",
       "      <td>wa</td>\n",
       "    </tr>\n",
       "    <tr>\n",
       "      <th>17</th>\n",
       "      <td>7222206015</td>\n",
       "      <td>bellingham</td>\n",
       "      <td>21850</td>\n",
       "      <td>NaN</td>\n",
       "      <td>NaN</td>\n",
       "      <td>NaN</td>\n",
       "      <td>NaN</td>\n",
       "      <td>NaN</td>\n",
       "      <td>NaN</td>\n",
       "      <td>NaN</td>\n",
       "      <td>NaN</td>\n",
       "      <td>NaN</td>\n",
       "      <td>NaN</td>\n",
       "      <td>NaN</td>\n",
       "      <td>NaN</td>\n",
       "      <td>NaN</td>\n",
       "      <td>NaN</td>\n",
       "      <td>wa</td>\n",
       "    </tr>\n",
       "    <tr>\n",
       "      <th>18</th>\n",
       "      <td>7220030122</td>\n",
       "      <td>bellingham</td>\n",
       "      <td>26850</td>\n",
       "      <td>NaN</td>\n",
       "      <td>NaN</td>\n",
       "      <td>NaN</td>\n",
       "      <td>NaN</td>\n",
       "      <td>NaN</td>\n",
       "      <td>NaN</td>\n",
       "      <td>NaN</td>\n",
       "      <td>NaN</td>\n",
       "      <td>NaN</td>\n",
       "      <td>NaN</td>\n",
       "      <td>NaN</td>\n",
       "      <td>NaN</td>\n",
       "      <td>NaN</td>\n",
       "      <td>NaN</td>\n",
       "      <td>wa</td>\n",
       "    </tr>\n",
       "    <tr>\n",
       "      <th>19</th>\n",
       "      <td>7218423006</td>\n",
       "      <td>bellingham</td>\n",
       "      <td>11999</td>\n",
       "      <td>NaN</td>\n",
       "      <td>NaN</td>\n",
       "      <td>NaN</td>\n",
       "      <td>NaN</td>\n",
       "      <td>NaN</td>\n",
       "      <td>NaN</td>\n",
       "      <td>NaN</td>\n",
       "      <td>NaN</td>\n",
       "      <td>NaN</td>\n",
       "      <td>NaN</td>\n",
       "      <td>NaN</td>\n",
       "      <td>NaN</td>\n",
       "      <td>NaN</td>\n",
       "      <td>NaN</td>\n",
       "      <td>wa</td>\n",
       "    </tr>\n",
       "  </tbody>\n",
       "</table>\n",
       "</div>"
      ],
      "text/plain": [
       "            id                  region  price  year manufacturer model  \\\n",
       "0   7222695916                prescott   6000   NaN          NaN   NaN   \n",
       "1   7218891961            fayetteville  11900   NaN          NaN   NaN   \n",
       "2   7221797935            florida keys  21000   NaN          NaN   NaN   \n",
       "3   7222270760  worcester / central MA   1500   NaN          NaN   NaN   \n",
       "4   7210384030              greensboro   4900   NaN          NaN   NaN   \n",
       "5   7222379453           hudson valley   1600   NaN          NaN   NaN   \n",
       "6   7221952215           hudson valley   1000   NaN          NaN   NaN   \n",
       "7   7220195662           hudson valley  15995   NaN          NaN   NaN   \n",
       "8   7209064557         medford-ashland   5000   NaN          NaN   NaN   \n",
       "9   7219485069                    erie   3000   NaN          NaN   NaN   \n",
       "10  7218893038                 el paso      0   NaN          NaN   NaN   \n",
       "11  7218325704                 el paso      0   NaN          NaN   NaN   \n",
       "12  7217788283                 el paso      0   NaN          NaN   NaN   \n",
       "13  7217147606                 el paso      0   NaN          NaN   NaN   \n",
       "14  7209027818                 el paso      0   NaN          NaN   NaN   \n",
       "15  7223509794              bellingham  13995   NaN          NaN   NaN   \n",
       "16  7222753076              bellingham  24999   NaN          NaN   NaN   \n",
       "17  7222206015              bellingham  21850   NaN          NaN   NaN   \n",
       "18  7220030122              bellingham  26850   NaN          NaN   NaN   \n",
       "19  7218423006              bellingham  11999   NaN          NaN   NaN   \n",
       "\n",
       "   condition cylinders fuel  odometer title_status transmission  VIN drive  \\\n",
       "0        NaN       NaN  NaN       NaN          NaN          NaN  NaN   NaN   \n",
       "1        NaN       NaN  NaN       NaN          NaN          NaN  NaN   NaN   \n",
       "2        NaN       NaN  NaN       NaN          NaN          NaN  NaN   NaN   \n",
       "3        NaN       NaN  NaN       NaN          NaN          NaN  NaN   NaN   \n",
       "4        NaN       NaN  NaN       NaN          NaN          NaN  NaN   NaN   \n",
       "5        NaN       NaN  NaN       NaN          NaN          NaN  NaN   NaN   \n",
       "6        NaN       NaN  NaN       NaN          NaN          NaN  NaN   NaN   \n",
       "7        NaN       NaN  NaN       NaN          NaN          NaN  NaN   NaN   \n",
       "8        NaN       NaN  NaN       NaN          NaN          NaN  NaN   NaN   \n",
       "9        NaN       NaN  NaN       NaN          NaN          NaN  NaN   NaN   \n",
       "10       NaN       NaN  NaN       NaN          NaN          NaN  NaN   NaN   \n",
       "11       NaN       NaN  NaN       NaN          NaN          NaN  NaN   NaN   \n",
       "12       NaN       NaN  NaN       NaN          NaN          NaN  NaN   NaN   \n",
       "13       NaN       NaN  NaN       NaN          NaN          NaN  NaN   NaN   \n",
       "14       NaN       NaN  NaN       NaN          NaN          NaN  NaN   NaN   \n",
       "15       NaN       NaN  NaN       NaN          NaN          NaN  NaN   NaN   \n",
       "16       NaN       NaN  NaN       NaN          NaN          NaN  NaN   NaN   \n",
       "17       NaN       NaN  NaN       NaN          NaN          NaN  NaN   NaN   \n",
       "18       NaN       NaN  NaN       NaN          NaN          NaN  NaN   NaN   \n",
       "19       NaN       NaN  NaN       NaN          NaN          NaN  NaN   NaN   \n",
       "\n",
       "   size type paint_color state  \n",
       "0   NaN  NaN         NaN    az  \n",
       "1   NaN  NaN         NaN    ar  \n",
       "2   NaN  NaN         NaN    fl  \n",
       "3   NaN  NaN         NaN    ma  \n",
       "4   NaN  NaN         NaN    nc  \n",
       "5   NaN  NaN         NaN    ny  \n",
       "6   NaN  NaN         NaN    ny  \n",
       "7   NaN  NaN         NaN    ny  \n",
       "8   NaN  NaN         NaN    or  \n",
       "9   NaN  NaN         NaN    pa  \n",
       "10  NaN  NaN         NaN    tx  \n",
       "11  NaN  NaN         NaN    tx  \n",
       "12  NaN  NaN         NaN    tx  \n",
       "13  NaN  NaN         NaN    tx  \n",
       "14  NaN  NaN         NaN    tx  \n",
       "15  NaN  NaN         NaN    wa  \n",
       "16  NaN  NaN         NaN    wa  \n",
       "17  NaN  NaN         NaN    wa  \n",
       "18  NaN  NaN         NaN    wa  \n",
       "19  NaN  NaN         NaN    wa  "
      ]
     },
     "execution_count": 1,
     "metadata": {},
     "output_type": "execute_result"
    }
   ],
   "source": [
    "import pandas as pd\n",
    "import numpy as np\n",
    "import matplotlib.pyplot as plt\n",
    "from scipy.stats import randint\n",
    "from sklearn.experimental import enable_iterative_imputer\n",
    "from sklearn.impute       import IterativeImputer\n",
    "from sklearn.preprocessing import OneHotEncoder, OrdinalEncoder, PolynomialFeatures, StandardScaler\n",
    "from sklearn.model_selection import KFold, GridSearchCV, train_test_split, cross_val_score, RandomizedSearchCV\n",
    "from sklearn.pipeline      import Pipeline\n",
    "from sklearn.compose       import ColumnTransformer, TransformedTargetRegressor\n",
    "from sklearn.ensemble      import RandomForestRegressor, GradientBoostingRegressor\n",
    "from sklearn.linear_model     import LinearRegression, Ridge, Lasso\n",
    "from sklearn.utils import Tags\n",
    "from category_encoders import TargetEncoder\n",
    "from sklearn.metrics          import mean_squared_error\n",
    "\n",
    "# Load data\n",
    "df = pd.read_csv('./data/vehicles.csv')\n",
    "df.head(20)"
   ]
  },
  {
   "cell_type": "code",
   "execution_count": 2,
   "metadata": {},
   "outputs": [
    {
     "name": "stdout",
     "output_type": "stream",
     "text": [
      "<class 'pandas.core.frame.DataFrame'>\n",
      "RangeIndex: 426880 entries, 0 to 426879\n",
      "Data columns (total 18 columns):\n",
      " #   Column        Non-Null Count   Dtype  \n",
      "---  ------        --------------   -----  \n",
      " 0   id            426880 non-null  int64  \n",
      " 1   region        426880 non-null  object \n",
      " 2   price         426880 non-null  int64  \n",
      " 3   year          425675 non-null  float64\n",
      " 4   manufacturer  409234 non-null  object \n",
      " 5   model         421603 non-null  object \n",
      " 6   condition     252776 non-null  object \n",
      " 7   cylinders     249202 non-null  object \n",
      " 8   fuel          423867 non-null  object \n",
      " 9   odometer      422480 non-null  float64\n",
      " 10  title_status  418638 non-null  object \n",
      " 11  transmission  424324 non-null  object \n",
      " 12  VIN           265838 non-null  object \n",
      " 13  drive         296313 non-null  object \n",
      " 14  size          120519 non-null  object \n",
      " 15  type          334022 non-null  object \n",
      " 16  paint_color   296677 non-null  object \n",
      " 17  state         426880 non-null  object \n",
      "dtypes: float64(2), int64(2), object(14)\n",
      "memory usage: 58.6+ MB\n"
     ]
    }
   ],
   "source": [
    "df.info()"
   ]
  },
  {
   "cell_type": "code",
   "execution_count": 3,
   "metadata": {},
   "outputs": [
    {
     "data": {
      "text/html": [
       "<div>\n",
       "<style scoped>\n",
       "    .dataframe tbody tr th:only-of-type {\n",
       "        vertical-align: middle;\n",
       "    }\n",
       "\n",
       "    .dataframe tbody tr th {\n",
       "        vertical-align: top;\n",
       "    }\n",
       "\n",
       "    .dataframe thead th {\n",
       "        text-align: right;\n",
       "    }\n",
       "</style>\n",
       "<table border=\"1\" class=\"dataframe\">\n",
       "  <thead>\n",
       "    <tr style=\"text-align: right;\">\n",
       "      <th></th>\n",
       "      <th>id</th>\n",
       "      <th>price</th>\n",
       "      <th>year</th>\n",
       "      <th>odometer</th>\n",
       "    </tr>\n",
       "  </thead>\n",
       "  <tbody>\n",
       "    <tr>\n",
       "      <th>count</th>\n",
       "      <td>4.268800e+05</td>\n",
       "      <td>4.268800e+05</td>\n",
       "      <td>425675.000000</td>\n",
       "      <td>4.224800e+05</td>\n",
       "    </tr>\n",
       "    <tr>\n",
       "      <th>mean</th>\n",
       "      <td>7.311487e+09</td>\n",
       "      <td>7.519903e+04</td>\n",
       "      <td>2011.235191</td>\n",
       "      <td>9.804333e+04</td>\n",
       "    </tr>\n",
       "    <tr>\n",
       "      <th>std</th>\n",
       "      <td>4.473170e+06</td>\n",
       "      <td>1.218228e+07</td>\n",
       "      <td>9.452120</td>\n",
       "      <td>2.138815e+05</td>\n",
       "    </tr>\n",
       "    <tr>\n",
       "      <th>min</th>\n",
       "      <td>7.207408e+09</td>\n",
       "      <td>0.000000e+00</td>\n",
       "      <td>1900.000000</td>\n",
       "      <td>0.000000e+00</td>\n",
       "    </tr>\n",
       "    <tr>\n",
       "      <th>25%</th>\n",
       "      <td>7.308143e+09</td>\n",
       "      <td>5.900000e+03</td>\n",
       "      <td>2008.000000</td>\n",
       "      <td>3.770400e+04</td>\n",
       "    </tr>\n",
       "    <tr>\n",
       "      <th>50%</th>\n",
       "      <td>7.312621e+09</td>\n",
       "      <td>1.395000e+04</td>\n",
       "      <td>2013.000000</td>\n",
       "      <td>8.554800e+04</td>\n",
       "    </tr>\n",
       "    <tr>\n",
       "      <th>75%</th>\n",
       "      <td>7.315254e+09</td>\n",
       "      <td>2.648575e+04</td>\n",
       "      <td>2017.000000</td>\n",
       "      <td>1.335425e+05</td>\n",
       "    </tr>\n",
       "    <tr>\n",
       "      <th>max</th>\n",
       "      <td>7.317101e+09</td>\n",
       "      <td>3.736929e+09</td>\n",
       "      <td>2022.000000</td>\n",
       "      <td>1.000000e+07</td>\n",
       "    </tr>\n",
       "  </tbody>\n",
       "</table>\n",
       "</div>"
      ],
      "text/plain": [
       "                 id         price           year      odometer\n",
       "count  4.268800e+05  4.268800e+05  425675.000000  4.224800e+05\n",
       "mean   7.311487e+09  7.519903e+04    2011.235191  9.804333e+04\n",
       "std    4.473170e+06  1.218228e+07       9.452120  2.138815e+05\n",
       "min    7.207408e+09  0.000000e+00    1900.000000  0.000000e+00\n",
       "25%    7.308143e+09  5.900000e+03    2008.000000  3.770400e+04\n",
       "50%    7.312621e+09  1.395000e+04    2013.000000  8.554800e+04\n",
       "75%    7.315254e+09  2.648575e+04    2017.000000  1.335425e+05\n",
       "max    7.317101e+09  3.736929e+09    2022.000000  1.000000e+07"
      ]
     },
     "execution_count": 3,
     "metadata": {},
     "output_type": "execute_result"
    }
   ],
   "source": [
    "df.describe()"
   ]
  },
  {
   "cell_type": "code",
   "execution_count": 4,
   "metadata": {},
   "outputs": [
    {
     "data": {
      "text/plain": [
       "size            71.767476\n",
       "cylinders       41.622470\n",
       "condition       40.785232\n",
       "VIN             37.725356\n",
       "drive           30.586347\n",
       "paint_color     30.501078\n",
       "type            21.752717\n",
       "manufacturer     4.133714\n",
       "title_status     1.930753\n",
       "model            1.236179\n",
       "odometer         1.030735\n",
       "fuel             0.705819\n",
       "transmission     0.598763\n",
       "year             0.282281\n",
       "id               0.000000\n",
       "region           0.000000\n",
       "price            0.000000\n",
       "state            0.000000\n",
       "dtype: float64"
      ]
     },
     "execution_count": 4,
     "metadata": {},
     "output_type": "execute_result"
    }
   ],
   "source": [
    "# Analyze missing values\n",
    "(df.isnull().sum() / len(df) * 100).sort_values(ascending=False)"
   ]
  },
  {
   "cell_type": "markdown",
   "metadata": {},
   "source": [
    "### Data Preparation\n",
    "\n",
    "After our initial exploration and fine-tuning of the business understanding, it is time to construct our final dataset prior to modeling.  Here, we want to make sure to handle any integrity issues and cleaning, the engineering of new features, any transformations that we believe should happen (scaling, logarithms, normalization, etc.), and general preparation for modeling with `sklearn`. "
   ]
  },
  {
   "cell_type": "code",
   "execution_count": 10,
   "metadata": {},
   "outputs": [
    {
     "data": {
      "image/png": "[encoded data removed]",
      "text/plain": [
       "<Figure size 640x480 with 1 Axes>"
      ]
     },
     "metadata": {},
     "output_type": "display_data"
    }
   ],
   "source": [
    "df[['year']].boxplot()\n",
    "plt.show()"
   ]
  },
  {
   "cell_type": "code",
   "execution_count": 11,
   "metadata": {},
   "outputs": [
    {
     "data": {
      "image/png": "[encoded data removed]",
      "text/plain": [
       "<Figure size 640x480 with 1 Axes>"
      ]
     },
     "metadata": {},
     "output_type": "display_data"
    }
   ],
   "source": [
    "# Cleaning outliers from year column\n",
    "# Applying IQR to detect outliers and remove them \n",
    "\n",
    "# Calculate Interquartile range\n",
    "Q1 = df['year'].quantile(0.25)\n",
    "Q3 = df['year'].quantile(0.75)\n",
    "IQR = Q3 - Q1\n",
    "\n",
    "# Define the outliers cutoffs\n",
    "lower_bound = Q1 - 1.5 * IQR\n",
    "upper_bound = Q3 + 1.5 * IQR\n",
    "\n",
    "# clip outliers\n",
    "df['year'] = df['year'].clip(lower_bound, upper_bound)\n",
    "df[['year']].boxplot()\n",
    "plt.show()"
   ]
  },
  {
   "cell_type": "code",
   "execution_count": 14,
   "metadata": {},
   "outputs": [
    {
     "data": {
      "image/png": "[encoded data removed]",
      "text/plain": [
       "<Figure size 640x480 with 1 Axes>"
      ]
     },
     "metadata": {},
     "output_type": "display_data"
    }
   ],
   "source": [
    "df[['odometer']].boxplot()\n",
    "plt.show()"
   ]
  },
  {
   "cell_type": "code",
   "execution_count": 16,
   "metadata": {},
   "outputs": [
    {
     "data": {
      "image/png": "[encoded data removed]",
      "text/plain": [
       "<Figure size 640x480 with 1 Axes>"
      ]
     },
     "metadata": {},
     "output_type": "display_data"
    }
   ],
   "source": [
    "# Cleaning outliers from odometer column\n",
    "# Applying IQR to detect outliers and remove them \n",
    "\n",
    "# Calculate Interquartile range\n",
    "Q1 = df['odometer'].quantile(0.25)\n",
    "Q3 = df['odometer'].quantile(0.75)\n",
    "IQR = Q3 - Q1\n",
    "\n",
    "# Define the outliers cutoffs\n",
    "lower_bound = Q1 - 1.5 * IQR\n",
    "upper_bound = Q3 + 1.5 * IQR\n",
    "\n",
    "# clip outliers\n",
    "df['odometer'] = df['odometer'].clip(lower_bound, upper_bound)\n",
    "df[['odometer']].boxplot()\n",
    "plt.show()"
   ]
  },
  {
   "cell_type": "code",
   "execution_count": 18,
   "metadata": {},
   "outputs": [
    {
     "data": {
      "image/png": "[encoded data removed]",
      "text/plain": [
       "<Figure size 640x480 with 1 Axes>"
      ]
     },
     "metadata": {},
     "output_type": "display_data"
    }
   ],
   "source": [
    "df[['price']].boxplot()\n",
    "plt.show()"
   ]
  },
  {
   "cell_type": "code",
   "execution_count": 20,
   "metadata": {},
   "outputs": [
    {
     "data": {
      "image/png": "[encoded data removed]",
      "text/plain": [
       "<Figure size 640x480 with 1 Axes>"
      ]
     },
     "metadata": {},
     "output_type": "display_data"
    },
    {
     "data": {
      "text/plain": [
       "count    393985.000000\n",
       "mean      18558.699104\n",
       "std       13836.265959\n",
       "min           1.000000\n",
       "25%        7000.000000\n",
       "50%       15000.000000\n",
       "75%       27590.000000\n",
       "max       57364.375000\n",
       "Name: price, dtype: float64"
      ]
     },
     "execution_count": 20,
     "metadata": {},
     "output_type": "execute_result"
    }
   ],
   "source": [
    "# Cleaning outliers from price column\n",
    "# Applying IQR to detect outliers and remove them \n",
    "\n",
    "# Calculate Interquartile range\n",
    "Q1 = df['price'].quantile(0.25)\n",
    "Q3 = df['price'].quantile(0.75)\n",
    "IQR = Q3 - Q1\n",
    "\n",
    "# Define the outliers cutoffs\n",
    "lower_bound = Q1 - 1.5 * IQR\n",
    "upper_bound = Q3 + 1.5 * IQR\n",
    "\n",
    "# clip outliers\n",
    "df['price'] = df['price'].clip(lower_bound, upper_bound)\n",
    "# remove 0 dollar price\n",
    "\n",
    "df = df[df['price'] > 0]\n",
    "\n",
    "df[['price']].boxplot()\n",
    "plt.show()\n",
    "df['price'].describe()"
   ]
  },
  {
   "cell_type": "code",
   "execution_count": 22,
   "metadata": {},
   "outputs": [],
   "source": [
    "# Dropping columns that are not relevant to price prediction\n",
    "df.drop(['id', 'VIN'], axis=1, inplace=True)"
   ]
  },
  {
   "cell_type": "code",
   "execution_count": 24,
   "metadata": {},
   "outputs": [
    {
     "data": {
      "text/plain": [
       "size            71.813140\n",
       "cylinders       40.714748\n",
       "condition       38.425067\n",
       "drive           30.522482\n",
       "paint_color     29.734381\n",
       "type            21.810983\n",
       "manufacturer     4.108024\n",
       "title_status     1.963019\n",
       "model            1.193193\n",
       "fuel             0.658401\n",
       "odometer         0.581240\n",
       "transmission     0.462708\n",
       "year             0.297727\n",
       "region           0.000000\n",
       "price            0.000000\n",
       "state            0.000000\n",
       "dtype: float64"
      ]
     },
     "execution_count": 24,
     "metadata": {},
     "output_type": "execute_result"
    }
   ],
   "source": [
    "(df.isnull().sum() / len(df) * 100).sort_values(ascending=False)"
   ]
  },
  {
   "cell_type": "code",
   "execution_count": 26,
   "metadata": {},
   "outputs": [],
   "source": [
    "# Handling Size column\n",
    "# Although it could be a driving factor, 72% of it is missing is it way to much!\n",
    "# Dropping the column as well\n",
    "df.drop(['size'], axis=1, inplace=True)"
   ]
  },
  {
   "cell_type": "code",
   "execution_count": 28,
   "metadata": {},
   "outputs": [
    {
     "data": {
      "text/plain": [
       "cylinders       40.714748\n",
       "odometer         0.581240\n",
       "year             0.297727\n",
       "region           0.000000\n",
       "price            0.000000\n",
       "manufacturer     0.000000\n",
       "model            0.000000\n",
       "condition        0.000000\n",
       "fuel             0.000000\n",
       "title_status     0.000000\n",
       "transmission     0.000000\n",
       "drive            0.000000\n",
       "type             0.000000\n",
       "paint_color      0.000000\n",
       "state            0.000000\n",
       "dtype: float64"
      ]
     },
     "execution_count": 28,
     "metadata": {},
     "output_type": "execute_result"
    }
   ],
   "source": [
    "# Handling condition, cylinders, drive, paint_color, type, manufacturer, title_status, model, fuel and transmission columns\n",
    "# Replacing missing values with 'unknown'\n",
    "\n",
    "df['condition'] = df['condition'].fillna('unknown')\n",
    "df['drive'] = df['drive'].fillna('unknown')\n",
    "df['paint_color'] = df['paint_color'].fillna('unknown')\n",
    "df['type'] = df['type'].fillna('unknown')\n",
    "df['manufacturer'] = df['manufacturer'].fillna('unknown')\n",
    "df['title_status'] = df['title_status'].fillna('unknown')\n",
    "df['model'] = df['model'].fillna('unknown')\n",
    "df['fuel'] = df['fuel'].fillna('unknown')\n",
    "df['transmission'] = df['title_status'].fillna('unknown')\n",
    "(df.isnull().sum() / len(df) * 100).sort_values(ascending=False)"
   ]
  },
  {
   "cell_type": "code",
   "execution_count": 30,
   "metadata": {},
   "outputs": [
    {
     "data": {
      "text/plain": [
       "region            404\n",
       "manufacturer       43\n",
       "model           28265\n",
       "condition           7\n",
       "cylinders           8\n",
       "fuel                6\n",
       "title_status        7\n",
       "transmission        7\n",
       "drive               4\n",
       "type               14\n",
       "paint_color        13\n",
       "state              51\n",
       "dtype: int64"
      ]
     },
     "execution_count": 30,
     "metadata": {},
     "output_type": "execute_result"
    }
   ],
   "source": [
    "df.select_dtypes(include=['object', 'category']).nunique()\n"
   ]
  },
  {
   "cell_type": "code",
   "execution_count": 32,
   "metadata": {},
   "outputs": [],
   "source": [
    "# convert cylinders into numerical column\n",
    "cyl = df['cylinders'].str.extract(r'(\\d+)', expand=False).astype(float)\n",
    "med = cyl.median()\n",
    "df['cylinders'] = cyl.fillna(med)"
   ]
  },
  {
   "cell_type": "code",
   "execution_count": 34,
   "metadata": {},
   "outputs": [
    {
     "data": {
      "text/plain": [
       "array(['unknown', 'good', 'excellent', 'fair', 'like new', 'new',\n",
       "       'salvage'], dtype=object)"
      ]
     },
     "execution_count": 34,
     "metadata": {},
     "output_type": "execute_result"
    }
   ],
   "source": [
    "df['condition'].unique()"
   ]
  },
  {
   "cell_type": "code",
   "execution_count": 36,
   "metadata": {},
   "outputs": [],
   "source": [
    "# separate categorical columns based on their transformation methods\n",
    "\n",
    "target_cols = ['model', 'manufacturer', 'region']\n",
    "onehot_cols = ['fuel', 'title_status', 'transmission', 'drive', 'type', 'paint_color', 'state']\n",
    "numeric_cols = ['cylinders', 'year', 'odometer']\n",
    "\n",
    "ordinal_cols = ['condition']\n",
    "condition_order = [['unknown', 'salvage', 'fair', 'good', 'excellent', 'like new', 'new']]\n",
    "\n",
    "# transformers\n",
    "\n",
    "te = TargetEncoder(cols=target_cols, smoothing=0.5, min_samples_leaf=100)\n",
    "oh = OneHotEncoder(handle_unknown='ignore', sparse_output=False)\n",
    "ord_enc = OrdinalEncoder(categories=condition_order, dtype=int)\n",
    "num_imp = IterativeImputer(random_state=42, max_iter=10)\n",
    "\n",
    "preprocessor = ColumnTransformer([\n",
    "    ('target', te, target_cols),\n",
    "    ('onehot', oh, onehot_cols),\n",
    "    ('ordinal', ord_enc, ordinal_cols),\n",
    "    ('num', num_imp, numeric_cols)\n",
    "])"
   ]
  },
  {
   "cell_type": "code",
   "execution_count": 38,
   "metadata": {},
   "outputs": [],
   "source": [
    "X = df.drop('price', axis=1)\n",
    "y = df['price']\n",
    "\n",
    "X_train, X_test, y_train, y_test = train_test_split(X, y, test_size=0.3, random_state=42)"
   ]
  },
  {
   "cell_type": "markdown",
   "metadata": {},
   "source": [
    "### Modeling\n",
    "\n",
    "With your (almost?) final dataset in hand, it is now time to build some models.  Here, you should build a number of different regression models with the price as the target.  In building your models, you should explore different parameters and be sure to cross-validate your findings."
   ]
  },
  {
   "cell_type": "code",
   "execution_count": 41,
   "metadata": {},
   "outputs": [],
   "source": [
    "models = {\n",
    "    'LinearRegression': LinearRegression(),\n",
    "    'Ridge': Ridge(alpha=1.0, random_state=42),\n",
    "    'Lasso': Lasso(alpha=0.1, random_state=42, max_iter=10_000),\n",
    "    'RandomForest (100 trees)': RandomForestRegressor(n_estimators=100, random_state=42),\n",
    "    'GBR (100 trees)'         : GradientBoostingRegressor(n_estimators=100, random_state=42)\n",
    "}"
   ]
  },
  {
   "cell_type": "code",
   "execution_count": 117,
   "metadata": {},
   "outputs": [
    {
     "name": "stdout",
     "output_type": "stream",
     "text": [
      "LinearRegression           CV RMSE = 9,922  |  Test RMSE = 9,963\n",
      "Ridge                      CV RMSE = 9,922  |  Test RMSE = 9,963\n",
      "Lasso                      CV RMSE = 11,313  |  Test RMSE = 11,201\n",
      "RandomForest (100 trees)   CV RMSE = 5,756  |  Test RMSE = 5,554\n",
      "GBR (100 trees)            CV RMSE = 8,787  |  Test RMSE = 8,737\n"
     ]
    }
   ],
   "source": [
    "# Baseline with no tunning\n",
    "for name, estimator in models.items():\n",
    "    base_pipe = Pipeline([\n",
    "        ('preprocessor', preprocessor),\n",
    "        ('model', estimator)\n",
    "    ])\n",
    "\n",
    "    log_pipe = TransformedTargetRegressor(\n",
    "        regressor=base_pipe,\n",
    "        func=np.log1p,\n",
    "        inverse_func=np.expm1\n",
    "        )\n",
    "    \n",
    "    cv_scores = -cross_val_score(\n",
    "        log_pipe,\n",
    "        X_train, y_train,\n",
    "        cv=5,\n",
    "        scoring='neg_root_mean_squared_error',\n",
    "        n_jobs=-1\n",
    "    )\n",
    "    cv_rmse = cv_scores.mean()\n",
    "\n",
    "    log_pipe.fit(X_train, y_train)\n",
    "    y_pred = log_pipe.predict(X_test)\n",
    "    mse = mean_squared_error(y_test, y_pred)\n",
    "    test_rmse = np.sqrt(mse)                         \n",
    "    print(f\"{name:25s}  CV RMSE = {cv_rmse:,.0f}  |  Test RMSE = {test_rmse:,.0f}\")"
   ]
  },
  {
   "cell_type": "code",
   "execution_count": 504,
   "metadata": {},
   "outputs": [],
   "source": [
    "## Increasing dimensionality"
   ]
  },
  {
   "cell_type": "code",
   "execution_count": 107,
   "metadata": {},
   "outputs": [
    {
     "name": "stdout",
     "output_type": "stream",
     "text": [
      "Poly‑deg 2 Linear CV RMSE: 9,777  (std 54)\n",
      "Poly‑deg 2 Linear Test RMSE: 9,816\n"
     ]
    }
   ],
   "source": [
    "poly_degree = 2\n",
    "num_pipe_with_poly = Pipeline([\n",
    "    ('impute', IterativeImputer(random_state=42, max_iter=10)),\n",
    "    ('scale',  StandardScaler()),\n",
    "    ('poly',   PolynomialFeatures(degree=poly_degree, include_bias=False)),\n",
    "])\n",
    "\n",
    "preprocessor_poly = ColumnTransformer([\n",
    "    ('target', te, target_cols),\n",
    "    ('onehot', oh, onehot_cols),\n",
    "    ('ordinal', ord_enc, ordinal_cols),\n",
    "    ('num', num_pipe_with_poly, numeric_cols)\n",
    "])\n",
    "\n",
    "base_pipe_poly_lr = Pipeline([\n",
    "    ('pre', preprocessor_poly),\n",
    "    ('lr',  LinearRegression()),\n",
    "])\n",
    "\n",
    "log_pipe_poly = TransformedTargetRegressor(\n",
    "        regressor=base_pipe_poly_lr,\n",
    "        func=np.log1p,\n",
    "        inverse_func=np.expm1\n",
    "        )\n",
    "\n",
    "cv_scores = -cross_val_score(\n",
    "    log_pipe_poly, X_train, y_train,\n",
    "    cv=5,\n",
    "    scoring='neg_root_mean_squared_error',\n",
    "    n_jobs=-1\n",
    ")\n",
    "print(f\"Poly‑deg {poly_degree} Linear CV RMSE: {cv_scores.mean():,.0f}  (std {cv_scores.std():.0f})\")\n",
    "\n",
    "log_pipe_poly.fit(X_train, y_train)\n",
    "y_pred = log_pipe_poly.predict(X_test)\n",
    "test_rmse = np.sqrt(mean_squared_error(y_test, y_pred))\n",
    "print(f\"Poly‑deg {poly_degree} Linear Test RMSE: {test_rmse:,.0f}\")"
   ]
  },
  {
   "cell_type": "code",
   "execution_count": 508,
   "metadata": {},
   "outputs": [],
   "source": [
    "# Trying with same dimensionality and regularization"
   ]
  },
  {
   "cell_type": "code",
   "execution_count": 113,
   "metadata": {},
   "outputs": [
    {
     "name": "stdout",
     "output_type": "stream",
     "text": [
      "Best α: 100\n",
      "CV RMSE: 9767.863501087804\n",
      "Test RMSE: 9808.234612668648\n"
     ]
    }
   ],
   "source": [
    "base_pipe_ridge = Pipeline([\n",
    "    ('pre', preprocessor_poly),\n",
    "    ('ridge', Ridge(random_state=42))\n",
    "])\n",
    "\n",
    "log_pipe_ridge = TransformedTargetRegressor(\n",
    "        regressor=base_pipe_ridge,\n",
    "        func=np.log1p,\n",
    "        inverse_func=np.expm1\n",
    "        )\n",
    "\n",
    "param_grid = {\n",
    "    'regressor__ridge__alpha': [0.1, 1, 10, 100]\n",
    "}\n",
    "gs = GridSearchCV(log_pipe_ridge, \n",
    "                  param_grid,\n",
    "                  cv=5,\n",
    "                  scoring='neg_root_mean_squared_error',\n",
    "                  n_jobs=-1\n",
    "                 )\n",
    "gs.fit(X_train, y_train)\n",
    "print(\"Best α:\", gs.best_params_['regressor__ridge__alpha'])\n",
    "print(\"CV RMSE:\", -gs.best_score_)\n",
    "\n",
    "best = gs.best_estimator_\n",
    "y_pred = best.predict(X_test)\n",
    "test_rmse = np.sqrt(mean_squared_error(y_test, y_pred))\n",
    "print(\"Test RMSE:\", test_rmse)"
   ]
  },
  {
   "cell_type": "code",
   "execution_count": null,
   "metadata": {},
   "outputs": [],
   "source": [
    "## Hyperparameter Tuning for Random Forest"
   ]
  },
  {
   "cell_type": "code",
   "execution_count": 44,
   "metadata": {},
   "outputs": [
    {
     "name": "stdout",
     "output_type": "stream",
     "text": [
      "Fitting 3 folds for each of 10 candidates, totalling 30 fits\n",
      "[CV] END rf__max_depth=None, rf__min_samples_leaf=7, rf__n_estimators=221; total time= 9.2min\n",
      "[CV] END rf__max_depth=20, rf__min_samples_leaf=7, rf__n_estimators=430; total time=136.6min\n"
     ]
    },
    {
     "name": "stderr",
     "output_type": "stream",
     "text": [
      "/opt/anaconda3/lib/python3.12/site-packages/joblib/externals/loky/process_executor.py:752: UserWarning: A worker stopped while some jobs were given to the executor. This can be caused by a too short worker timeout or by a memory leak.\n",
      "  warnings.warn(\n"
     ]
    },
    {
     "name": "stdout",
     "output_type": "stream",
     "text": [
      "[CV] END rf__max_depth=20, rf__min_samples_leaf=8, rf__n_estimators=288; total time=26.6min\n",
      "[CV] END rf__max_depth=20, rf__min_samples_leaf=7, rf__n_estimators=430; total time=121.3min\n",
      "[CV] END rf__max_depth=20, rf__min_samples_leaf=6, rf__n_estimators=408; total time=31.8min\n",
      "[CV] END rf__max_depth=None, rf__min_samples_leaf=7, rf__n_estimators=221; total time= 9.2min\n",
      "[CV] END rf__max_depth=None, rf__min_samples_leaf=7, rf__n_estimators=221; total time=86.4min\n",
      "[CV] END rf__max_depth=20, rf__min_samples_leaf=8, rf__n_estimators=472; total time=67.2min\n",
      "[CV] END rf__max_depth=10, rf__min_samples_leaf=5, rf__n_estimators=260; total time=17.0min\n",
      "[CV] END rf__max_depth=20, rf__min_samples_leaf=8, rf__n_estimators=288; total time=26.6min\n",
      "[CV] END rf__max_depth=20, rf__min_samples_leaf=7, rf__n_estimators=430; total time=121.2min\n",
      "[CV] END rf__max_depth=20, rf__min_samples_leaf=6, rf__n_estimators=408; total time=32.0min\n",
      "[CV] END rf__max_depth=20, rf__min_samples_leaf=4, rf__n_estimators=448; total time=95.8min\n",
      "[CV] END rf__max_depth=30, rf__min_samples_leaf=8, rf__n_estimators=251; total time=52.2min\n",
      "[CV] END rf__max_depth=20, rf__min_samples_leaf=6, rf__n_estimators=408; total time=31.9min\n",
      "[CV] END rf__max_depth=20, rf__min_samples_leaf=8, rf__n_estimators=288; total time=26.7min\n",
      "[CV] END rf__max_depth=20, rf__min_samples_leaf=8, rf__n_estimators=472; total time=123.1min\n",
      "[CV] END rf__max_depth=10, rf__min_samples_leaf=8, rf__n_estimators=393; total time=27.0min\n",
      "[CV] END rf__max_depth=30, rf__min_samples_leaf=6, rf__n_estimators=352; total time=10.2min\n",
      "[CV] END rf__max_depth=20, rf__min_samples_leaf=4, rf__n_estimators=448; total time=95.7min\n",
      "[CV] END rf__max_depth=30, rf__min_samples_leaf=8, rf__n_estimators=251; total time=52.4min\n",
      "[CV] END rf__max_depth=10, rf__min_samples_leaf=8, rf__n_estimators=393; total time=26.9min\n",
      "[CV] END rf__max_depth=10, rf__min_samples_leaf=5, rf__n_estimators=260; total time= 7.3min\n",
      "[CV] END rf__max_depth=30, rf__min_samples_leaf=8, rf__n_estimators=251; total time=16.6min\n",
      "[CV] END rf__max_depth=10, rf__min_samples_leaf=8, rf__n_estimators=393; total time=19.9min\n",
      "[CV] END rf__max_depth=20, rf__min_samples_leaf=4, rf__n_estimators=448; total time=95.6min\n",
      "[CV] END rf__max_depth=20, rf__min_samples_leaf=8, rf__n_estimators=472; total time=67.0min\n",
      "[CV] END rf__max_depth=10, rf__min_samples_leaf=5, rf__n_estimators=260; total time=17.1min\n",
      "[CV] END rf__max_depth=30, rf__min_samples_leaf=6, rf__n_estimators=352; total time= 8.3min\n",
      "[CV] END rf__max_depth=30, rf__min_samples_leaf=6, rf__n_estimators=352; total time= 8.3min\n",
      "Best RF params: {'rf__max_depth': 30, 'rf__min_samples_leaf': 6, 'rf__n_estimators': 352}\n",
      "RF CV RMSE: 5535.084718249255\n",
      "RF Test RMSE: 5218.167048604538\n"
     ]
    }
   ],
   "source": [
    "rf_pipe = Pipeline([\n",
    "    ('pre', preprocessor),\n",
    "    ('rf', RandomForestRegressor(random_state=42))\n",
    "])\n",
    "\n",
    "param_grid = {\n",
    "    'rf__n_estimators'    : randint(100, 500),\n",
    "    'rf__max_depth'       : [None, 10, 20, 30],\n",
    "    'rf__min_samples_leaf': randint(1, 10),\n",
    "}\n",
    "\n",
    "rs = RandomizedSearchCV(\n",
    "    rf_pipe, \n",
    "    param_grid, \n",
    "    n_iter=10,\n",
    "    cv=3, \n",
    "    scoring='neg_root_mean_squared_error', \n",
    "    n_jobs=-1,\n",
    "    random_state=42,\n",
    "    verbose=2\n",
    ")\n",
    "rs.fit(X_train, y_train)\n",
    "print(\"Best RF params:\", rs.best_params_)\n",
    "print(\"RF CV RMSE:\", -rs.best_score_)\n",
    "\n",
    "y_pred = rs.predict(X_test)\n",
    "test_rmse = np.sqrt(mean_squared_error(y_test, y_pred))\n",
    "\n",
    "print(\"RF Test RMSE:\", \n",
    "      test_rmse)"
   ]
  },
  {
   "cell_type": "code",
   "execution_count": 42,
   "metadata": {},
   "outputs": [
    {
     "name": "stdout",
     "output_type": "stream",
     "text": [
      "RF Test RMSE: 5218.167048604538\n"
     ]
    }
   ],
   "source": []
  },
  {
   "cell_type": "markdown",
   "metadata": {},
   "source": [
    "### Evaluation\n",
    "\n",
    "With some modeling accomplished, we aim to reflect on what we identify as a high-quality model and what we are able to learn from this.  We should review our business objective and explore how well we can provide meaningful insight into drivers of used car prices.  Your goal now is to distill your findings and determine whether the earlier phases need revisitation and adjustment or if you have information of value to bring back to your client."
   ]
  },
  {
   "cell_type": "code",
   "execution_count": null,
   "metadata": {},
   "outputs": [],
   "source": []
  },
  {
   "cell_type": "code",
   "execution_count": null,
   "metadata": {},
   "outputs": [],
   "source": []
  },
  {
   "cell_type": "code",
   "execution_count": null,
   "metadata": {},
   "outputs": [],
   "source": []
  },
  {
   "cell_type": "code",
   "execution_count": null,
   "metadata": {},
   "outputs": [],
   "source": []
  },
  {
   "cell_type": "code",
   "execution_count": null,
   "metadata": {},
   "outputs": [],
   "source": []
  },
  {
   "cell_type": "code",
   "execution_count": null,
   "metadata": {},
   "outputs": [],
   "source": []
  },
  {
   "cell_type": "markdown",
   "metadata": {},
   "source": [
    "### Deployment\n",
    "\n",
    "Now that we've settled on our models and findings, it is time to deliver the information to the client.  You should organize your work as a basic report that details your primary findings.  Keep in mind that your audience is a group of used car dealers interested in fine-tuning their inventory."
   ]
  },
  {
   "cell_type": "code",
   "execution_count": null,
   "metadata": {},
   "outputs": [],
   "source": []
  },
  {
   "cell_type": "code",
   "execution_count": null,
   "metadata": {},
   "outputs": [],
   "source": []
  },
  {
   "cell_type": "code",
   "execution_count": null,
   "metadata": {},
   "outputs": [],
   "source": []
  },
  {
   "cell_type": "code",
   "execution_count": null,
   "metadata": {},
   "outputs": [],
   "source": []
  },
  {
   "cell_type": "code",
   "execution_count": null,
   "metadata": {},
   "outputs": [],
   "source": []
  },
  {
   "cell_type": "code",
   "execution_count": null,
   "metadata": {},
   "outputs": [],
   "source": []
  },
  {
   "cell_type": "code",
   "execution_count": null,
   "metadata": {},
   "outputs": [],
   "source": []
  }
 ],
 "metadata": {
  "kernelspec": {
   "display_name": "Python [conda env:base] *",
   "language": "python",
   "name": "conda-base-py"
  },
  "language_info": {
   "codemirror_mode": {
    "name": "ipython",
    "version": 3
   },
   "file_extension": ".py",
   "mimetype": "text/x-python",
   "name": "python",
   "nbconvert_exporter": "python",
   "pygments_lexer": "ipython3",
   "version": "3.12.7"
  },
  "widgets": {
   "application/vnd.jupyter.widget-state+json": {
    "state": {},
    "version_major": 2,
    "version_minor": 0
   }
  }
 },
 "nbformat": 4,
 "nbformat_minor": 4
}
